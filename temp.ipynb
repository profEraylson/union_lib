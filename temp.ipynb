{
 "cells": [
  {
   "cell_type": "code",
   "execution_count": 1,
   "metadata": {},
   "outputs": [],
   "source": [
    "from preprocessing import Preproc\n",
    "import pandas as pd\n",
    "import numpy as np"
   ]
  },
  {
   "cell_type": "code",
   "execution_count": 2,
   "metadata": {},
   "outputs": [],
   "source": [
    "path = 'https://raw.githubusercontent.com/EraylsonGaldino/dataset_time_series/master/airline.txt'\n",
    "df_serie = pd.read_csv(path, header=None)"
   ]
  },
  {
   "cell_type": "code",
   "execution_count": 3,
   "metadata": {},
   "outputs": [],
   "source": [
    "pre = Preproc()"
   ]
  },
  {
   "cell_type": "code",
   "execution_count": null,
   "metadata": {},
   "outputs": [],
   "source": []
  },
  {
   "cell_type": "code",
   "execution_count": 4,
   "metadata": {},
   "outputs": [],
   "source": [
    "serie_np = df_serie.to_numpy().reshape(-1, )\n",
    "dict_samples = pre.split_serie(serie_np, perc_train = 0.6)\n",
    "train, test = dict_samples['train'], dict_samples['test']\n",
    "\n"
   ]
  },
  {
   "cell_type": "code",
   "execution_count": 5,
   "metadata": {},
   "outputs": [],
   "source": [
    "_ = pre.normalise_interval(train)"
   ]
  },
  {
   "cell_type": "code",
   "execution_count": 6,
   "metadata": {},
   "outputs": [],
   "source": [
    "train_norm = pre.normalise_interval(train)\n",
    "test_norm = pre.normalise_interval(test)"
   ]
  },
  {
   "cell_type": "code",
   "execution_count": 7,
   "metadata": {},
   "outputs": [
    {
     "name": "stdout",
     "output_type": "stream",
     "text": [
      "LAGS [0, 1, 2, 3, 4, 5]\n"
     ]
    }
   ],
   "source": [
    "idx_lags = pre.select_lag_acf( train_norm, 20)"
   ]
  },
  {
   "cell_type": "code",
   "execution_count": 8,
   "metadata": {},
   "outputs": [],
   "source": [
    "X_train, y_train = pre.create_windows(train_norm, np.max(idx_lags)+1)\n"
   ]
  },
  {
   "cell_type": "code",
   "execution_count": 9,
   "metadata": {},
   "outputs": [],
   "source": [
    "qtd_lags = np.max(idx_lags)\n",
    "test_with_previous = np.vstack([train_norm[-qtd_lags-1:], test_norm])\n",
    "X_test, y_test = pre.create_windows(test_with_previous, np.max(idx_lags)+1)"
   ]
  },
  {
   "cell_type": "code",
   "execution_count": 10,
   "metadata": {},
   "outputs": [],
   "source": [
    "X_train = X_train[:, idx_lags]\n",
    "X_test = X_test[:, idx_lags]"
   ]
  },
  {
   "cell_type": "code",
   "execution_count": 11,
   "metadata": {},
   "outputs": [],
   "source": [
    "from ensemble import Ensemble"
   ]
  },
  {
   "cell_type": "code",
   "execution_count": 21,
   "metadata": {},
   "outputs": [],
   "source": [
    "ens = Ensemble(100, 'SVR', approach_generate='bagging')"
   ]
  },
  {
   "cell_type": "code",
   "execution_count": null,
   "metadata": {},
   "outputs": [],
   "source": [
    "ens.fit(X_train, y_train)"
   ]
  },
  {
   "cell_type": "code",
   "execution_count": 14,
   "metadata": {},
   "outputs": [
    {
     "data": {
      "text/plain": [
       "{'models': [SVR(C=10000, epsilon=0.01, gamma=0.1),\n",
       "  SVR(C=1, epsilon=0.001, gamma=20)],\n",
       " 'indices': [[51,\n",
       "   14,\n",
       "   71,\n",
       "   60,\n",
       "   20,\n",
       "   74,\n",
       "   74,\n",
       "   23,\n",
       "   2,\n",
       "   21,\n",
       "   52,\n",
       "   1,\n",
       "   29,\n",
       "   37,\n",
       "   1,\n",
       "   63,\n",
       "   59,\n",
       "   20,\n",
       "   32,\n",
       "   75,\n",
       "   57,\n",
       "   21,\n",
       "   48,\n",
       "   58,\n",
       "   41,\n",
       "   59,\n",
       "   79,\n",
       "   14,\n",
       "   61,\n",
       "   61,\n",
       "   46,\n",
       "   61,\n",
       "   50,\n",
       "   54,\n",
       "   63,\n",
       "   2,\n",
       "   50,\n",
       "   6,\n",
       "   20,\n",
       "   72,\n",
       "   38,\n",
       "   17,\n",
       "   3,\n",
       "   59,\n",
       "   13,\n",
       "   8,\n",
       "   52,\n",
       "   1,\n",
       "   59,\n",
       "   70,\n",
       "   43,\n",
       "   7,\n",
       "   46,\n",
       "   34,\n",
       "   77,\n",
       "   35,\n",
       "   49,\n",
       "   3,\n",
       "   1,\n",
       "   5,\n",
       "   53,\n",
       "   3,\n",
       "   53,\n",
       "   62,\n",
       "   17,\n",
       "   43,\n",
       "   33,\n",
       "   73,\n",
       "   61,\n",
       "   13,\n",
       "   47,\n",
       "   14,\n",
       "   71,\n",
       "   77,\n",
       "   61,\n",
       "   39,\n",
       "   79,\n",
       "   52,\n",
       "   23,\n",
       "   25],\n",
       "  [4,\n",
       "   36,\n",
       "   71,\n",
       "   30,\n",
       "   8,\n",
       "   50,\n",
       "   28,\n",
       "   77,\n",
       "   39,\n",
       "   40,\n",
       "   10,\n",
       "   22,\n",
       "   0,\n",
       "   45,\n",
       "   20,\n",
       "   35,\n",
       "   53,\n",
       "   56,\n",
       "   0,\n",
       "   62,\n",
       "   53,\n",
       "   54,\n",
       "   39,\n",
       "   14,\n",
       "   20,\n",
       "   46,\n",
       "   72,\n",
       "   52,\n",
       "   8,\n",
       "   73,\n",
       "   51,\n",
       "   56,\n",
       "   25,\n",
       "   40,\n",
       "   34,\n",
       "   62,\n",
       "   24,\n",
       "   74,\n",
       "   37,\n",
       "   1,\n",
       "   6,\n",
       "   33,\n",
       "   16,\n",
       "   42,\n",
       "   58,\n",
       "   50,\n",
       "   53,\n",
       "   23,\n",
       "   24,\n",
       "   70,\n",
       "   51,\n",
       "   69,\n",
       "   32,\n",
       "   48,\n",
       "   28,\n",
       "   62,\n",
       "   21,\n",
       "   25,\n",
       "   27,\n",
       "   48,\n",
       "   70,\n",
       "   48,\n",
       "   19,\n",
       "   62,\n",
       "   60,\n",
       "   48,\n",
       "   70,\n",
       "   0,\n",
       "   12,\n",
       "   50,\n",
       "   55,\n",
       "   61,\n",
       "   31,\n",
       "   29,\n",
       "   28,\n",
       "   48,\n",
       "   44,\n",
       "   29,\n",
       "   15,\n",
       "   39]],\n",
       " 'indices_train': [[51,\n",
       "   14,\n",
       "   71,\n",
       "   60,\n",
       "   20,\n",
       "   74,\n",
       "   74,\n",
       "   23,\n",
       "   2,\n",
       "   21,\n",
       "   52,\n",
       "   1,\n",
       "   29,\n",
       "   37,\n",
       "   1,\n",
       "   63,\n",
       "   59,\n",
       "   20,\n",
       "   32,\n",
       "   75,\n",
       "   57,\n",
       "   21,\n",
       "   48,\n",
       "   58,\n",
       "   41,\n",
       "   59,\n",
       "   79,\n",
       "   14,\n",
       "   61,\n",
       "   61,\n",
       "   46,\n",
       "   61,\n",
       "   50,\n",
       "   54,\n",
       "   63,\n",
       "   2,\n",
       "   50,\n",
       "   6,\n",
       "   20,\n",
       "   72,\n",
       "   38,\n",
       "   17,\n",
       "   3,\n",
       "   59,\n",
       "   13,\n",
       "   8,\n",
       "   52,\n",
       "   1,\n",
       "   59,\n",
       "   70,\n",
       "   43,\n",
       "   7,\n",
       "   46,\n",
       "   34,\n",
       "   77],\n",
       "  [4,\n",
       "   36,\n",
       "   71,\n",
       "   30,\n",
       "   8,\n",
       "   50,\n",
       "   28,\n",
       "   77,\n",
       "   39,\n",
       "   40,\n",
       "   10,\n",
       "   22,\n",
       "   0,\n",
       "   45,\n",
       "   20,\n",
       "   35,\n",
       "   53,\n",
       "   56,\n",
       "   0,\n",
       "   62,\n",
       "   53,\n",
       "   54,\n",
       "   39,\n",
       "   14,\n",
       "   20,\n",
       "   46,\n",
       "   72,\n",
       "   52,\n",
       "   8,\n",
       "   73,\n",
       "   51,\n",
       "   56,\n",
       "   25,\n",
       "   40,\n",
       "   34,\n",
       "   62,\n",
       "   24,\n",
       "   74,\n",
       "   37,\n",
       "   1,\n",
       "   6,\n",
       "   33,\n",
       "   16,\n",
       "   42,\n",
       "   58,\n",
       "   50,\n",
       "   53,\n",
       "   23,\n",
       "   24,\n",
       "   70,\n",
       "   51,\n",
       "   69,\n",
       "   32,\n",
       "   48,\n",
       "   28]]}"
      ]
     },
     "execution_count": 14,
     "metadata": {},
     "output_type": "execute_result"
    }
   ],
   "source": [
    "ens.pool"
   ]
  },
  {
   "cell_type": "code",
   "execution_count": 15,
   "metadata": {},
   "outputs": [],
   "source": [
    "ens.save_models('airline', 'svr')"
   ]
  },
  {
   "cell_type": "code",
   "execution_count": 17,
   "metadata": {},
   "outputs": [],
   "source": [
    "from joblib import load"
   ]
  },
  {
   "cell_type": "code",
   "execution_count": 18,
   "metadata": {},
   "outputs": [],
   "source": [
    "model = load('/home/eraylson/union/airline/svr/model_0.joblib')"
   ]
  },
  {
   "cell_type": "code",
   "execution_count": 20,
   "metadata": {},
   "outputs": [
    {
     "data": {
      "text/plain": [
       "array([0.74227372])"
      ]
     },
     "execution_count": 20,
     "metadata": {},
     "output_type": "execute_result"
    }
   ],
   "source": [
    "model.predict(X_test[0].reshape(1, -1))"
   ]
  },
  {
   "cell_type": "code",
   "execution_count": null,
   "metadata": {},
   "outputs": [],
   "source": [
    "X_test[0].shape"
   ]
  },
  {
   "cell_type": "code",
   "execution_count": null,
   "metadata": {},
   "outputs": [],
   "source": [
    "len(X_test[0].shape)"
   ]
  },
  {
   "cell_type": "code",
   "execution_count": null,
   "metadata": {},
   "outputs": [],
   "source": [
    "X_test[0].reshape(1, -1).shape"
   ]
  },
  {
   "cell_type": "code",
   "execution_count": null,
   "metadata": {},
   "outputs": [],
   "source": [
    "X_test.shape"
   ]
  },
  {
   "cell_type": "code",
   "execution_count": null,
   "metadata": {},
   "outputs": [],
   "source": [
    "ens.predict(X_test[0])"
   ]
  },
  {
   "cell_type": "code",
   "execution_count": null,
   "metadata": {},
   "outputs": [],
   "source": [
    "y_pred = ens.predict(X_test)"
   ]
  },
  {
   "cell_type": "code",
   "execution_count": null,
   "metadata": {},
   "outputs": [],
   "source": [
    "import matplotlib.pyplot as plt \n",
    "\n"
   ]
  },
  {
   "cell_type": "code",
   "execution_count": null,
   "metadata": {},
   "outputs": [],
   "source": [
    "plt.plot(y_pred, label = 'pred')\n",
    "plt.plot(y_test, label = 'target')\n",
    "plt.legend()\n",
    "plt.show()"
   ]
  },
  {
   "cell_type": "code",
   "execution_count": null,
   "metadata": {},
   "outputs": [],
   "source": [
    "from sklearn.metrics import mean_squared_error as MSE"
   ]
  },
  {
   "cell_type": "code",
   "execution_count": null,
   "metadata": {},
   "outputs": [],
   "source": [
    "MSE(y_pred, y_test) #0.02836"
   ]
  },
  {
   "cell_type": "code",
   "execution_count": null,
   "metadata": {},
   "outputs": [],
   "source": []
  }
 ],
 "metadata": {
  "kernelspec": {
   "display_name": "ts_ensemble",
   "language": "python",
   "name": "python3"
  },
  "language_info": {
   "codemirror_mode": {
    "name": "ipython",
    "version": 3
   },
   "file_extension": ".py",
   "mimetype": "text/x-python",
   "name": "python",
   "nbconvert_exporter": "python",
   "pygments_lexer": "ipython3",
   "version": "3.10.13"
  }
 },
 "nbformat": 4,
 "nbformat_minor": 2
}
