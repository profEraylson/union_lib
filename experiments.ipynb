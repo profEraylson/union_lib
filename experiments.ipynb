{
 "cells": [
  {
   "cell_type": "code",
   "execution_count": 1,
   "metadata": {},
   "outputs": [],
   "source": [
    "from preprocessing import Preproc\n",
    "import pandas as pd\n",
    "import numpy as np"
   ]
  },
  {
   "cell_type": "code",
   "execution_count": null,
   "metadata": {},
   "outputs": [],
   "source": [
    "import time"
   ]
  },
  {
   "cell_type": "code",
   "execution_count": null,
   "metadata": {},
   "outputs": [],
   "source": [
    "\n",
    "series = ['airline']\n",
    "for serie in series:\n",
    "    path_serie = f'/home/eraylson/union/timeseries/{serie}.txt'\n",
    "    df_serie = pd.read_csv(path_serie, header=None)\n",
    "    pre = Preproc()\n",
    "    serie_np = df_serie.to_numpy().reshape(-1, )\n",
    "    dict_samples = pre.split_serie(serie_np, perc_train = 0.75)\n",
    "    train, test = dict_samples['train'], dict_samples['test']\n",
    "    _ = pre.normalise_interval(train)\n",
    "    train_norm = pre.normalise_interval(train)\n",
    "    test_norm = pre.normalise_interval(test)\n",
    "    idx_lags = pre.select_lag_acf( train_norm, 20)\n",
    "    X_train, y_train = pre.create_windows(train_norm, np.max(idx_lags)+1)\n",
    "\n",
    "    qtd_lags = np.max(idx_lags)\n",
    "    test_with_previous = np.vstack([train_norm[-qtd_lags-1:], test_norm])\n",
    "    X_test, y_test = pre.create_windows(test_with_previous, np.max(idx_lags)+1)\n",
    "    \n",
    "    X_train = X_train[:, idx_lags]\n",
    "    X_test = X_test[:, idx_lags]\n",
    "\n",
    "    from ensemble import Ensemble\n",
    "    ens = Ensemble(100, 'KNN', approach_generate='bagging', serie_name = serie)\n",
    "    start = time.time()\n",
    "    ens.fit(X_train, y_train)\n",
    "    end = time.time()\n",
    "    duration = end - start\n",
    "    #ens.save_models(serie, 'lstm')\n",
    "    with open(f'{serie}_pool_lstm_time.txt', 'w') as f:\n",
    "        f.write(f\"tempo de execução: {duration}\")\n",
    "\n",
    "#6.1s"
   ]
  },
  {
   "cell_type": "code",
   "execution_count": null,
   "metadata": {},
   "outputs": [],
   "source": [
    "ens.pool['models']"
   ]
  },
  {
   "cell_type": "code",
   "execution_count": null,
   "metadata": {},
   "outputs": [],
   "source": [
    "'''[SVR(C=0.1, epsilon=0.0001, gamma=70.0),\n",
    " SVR(C=0.1, epsilon=0.0001, gamma=70.0),\n",
    " SVR(C=0.1, epsilon=0.0001, gamma=70.0),\n",
    " SVR(C=0.1, epsilon=0.0001, gamma=70.0),\n",
    " SVR(C=0.1, epsilon=0.0001, gamma=70.0)]'''"
   ]
  },
  {
   "cell_type": "code",
   "execution_count": null,
   "metadata": {},
   "outputs": [],
   "source": [
    "eqweqwe"
   ]
  },
  {
   "cell_type": "code",
   "execution_count": null,
   "metadata": {},
   "outputs": [],
   "source": [
    "\n",
    "\n"
   ]
  },
  {
   "cell_type": "code",
   "execution_count": null,
   "metadata": {},
   "outputs": [],
   "source": []
  },
  {
   "cell_type": "code",
   "execution_count": null,
   "metadata": {},
   "outputs": [],
   "source": [
    "train_norm = pre.normalise_interval(train)\n",
    "test_norm = pre.normalise_interval(test)"
   ]
  },
  {
   "cell_type": "code",
   "execution_count": null,
   "metadata": {},
   "outputs": [],
   "source": [
    "idx_lags = pre.select_lag_acf( train_norm, 20)"
   ]
  },
  {
   "cell_type": "code",
   "execution_count": null,
   "metadata": {},
   "outputs": [],
   "source": [
    "X_train, y_train = pre.create_windows(train_norm, np.max(idx_lags)+1)\n"
   ]
  },
  {
   "cell_type": "code",
   "execution_count": null,
   "metadata": {},
   "outputs": [],
   "source": [
    "qtd_lags = np.max(idx_lags)\n",
    "test_with_previous = np.vstack([train_norm[-qtd_lags-1:], test_norm])\n",
    "X_test, y_test = pre.create_windows(test_with_previous, np.max(idx_lags)+1)"
   ]
  },
  {
   "cell_type": "code",
   "execution_count": null,
   "metadata": {},
   "outputs": [],
   "source": [
    "X_train = X_train[:, idx_lags]\n",
    "X_test = X_test[:, idx_lags]"
   ]
  },
  {
   "cell_type": "code",
   "execution_count": null,
   "metadata": {},
   "outputs": [],
   "source": [
    "from ensemble import Ensemble"
   ]
  },
  {
   "cell_type": "code",
   "execution_count": null,
   "metadata": {},
   "outputs": [],
   "source": [
    "ens = Ensemble(100, 'SVR', approach_generate='bagging')"
   ]
  },
  {
   "cell_type": "code",
   "execution_count": null,
   "metadata": {},
   "outputs": [],
   "source": [
    "ens.fit(X_train, y_train)"
   ]
  },
  {
   "cell_type": "code",
   "execution_count": null,
   "metadata": {},
   "outputs": [],
   "source": [
    "ens.pool"
   ]
  },
  {
   "cell_type": "code",
   "execution_count": null,
   "metadata": {},
   "outputs": [],
   "source": [
    "ens.save_models('airline', 'svr')"
   ]
  },
  {
   "cell_type": "code",
   "execution_count": null,
   "metadata": {},
   "outputs": [],
   "source": [
    "from joblib import load"
   ]
  },
  {
   "cell_type": "code",
   "execution_count": null,
   "metadata": {},
   "outputs": [],
   "source": [
    "model = load('/home/eraylson/union/airline/svr/model_0.joblib')"
   ]
  },
  {
   "cell_type": "code",
   "execution_count": null,
   "metadata": {},
   "outputs": [],
   "source": [
    "model.predict(X_test[0].reshape(1, -1))"
   ]
  },
  {
   "cell_type": "code",
   "execution_count": null,
   "metadata": {},
   "outputs": [],
   "source": [
    "X_test[0].shape"
   ]
  },
  {
   "cell_type": "code",
   "execution_count": null,
   "metadata": {},
   "outputs": [],
   "source": [
    "len(X_test[0].shape)"
   ]
  },
  {
   "cell_type": "code",
   "execution_count": null,
   "metadata": {},
   "outputs": [],
   "source": [
    "X_test[0].reshape(1, -1).shape"
   ]
  },
  {
   "cell_type": "code",
   "execution_count": null,
   "metadata": {},
   "outputs": [],
   "source": [
    "X_test.shape"
   ]
  },
  {
   "cell_type": "code",
   "execution_count": null,
   "metadata": {},
   "outputs": [],
   "source": [
    "ens.predict(X_test[0])"
   ]
  },
  {
   "cell_type": "code",
   "execution_count": null,
   "metadata": {},
   "outputs": [],
   "source": [
    "y_pred = ens.predict(X_test)"
   ]
  },
  {
   "cell_type": "code",
   "execution_count": null,
   "metadata": {},
   "outputs": [],
   "source": [
    "\n"
   ]
  },
  {
   "cell_type": "code",
   "execution_count": null,
   "metadata": {},
   "outputs": [],
   "source": [
    "import matplotlib.pyplot as plt \n",
    "\n",
    "plt.plot(y_pred, label = 'pred')\n",
    "plt.plot(y_test, label = 'target')\n",
    "plt.legend()\n",
    "plt.show()"
   ]
  },
  {
   "cell_type": "code",
   "execution_count": null,
   "metadata": {},
   "outputs": [],
   "source": [
    "from sklearn.metrics import mean_squared_error as MSE"
   ]
  },
  {
   "cell_type": "code",
   "execution_count": null,
   "metadata": {},
   "outputs": [],
   "source": [
    "MSE(y_pred, y_test) #0.02836"
   ]
  },
  {
   "cell_type": "code",
   "execution_count": null,
   "metadata": {},
   "outputs": [],
   "source": []
  }
 ],
 "metadata": {
  "kernelspec": {
   "display_name": "ts_ensemble",
   "language": "python",
   "name": "python3"
  },
  "language_info": {
   "codemirror_mode": {
    "name": "ipython",
    "version": 3
   },
   "file_extension": ".py",
   "mimetype": "text/x-python",
   "name": "python",
   "nbconvert_exporter": "python",
   "pygments_lexer": "ipython3",
   "version": "3.10.13"
  }
 },
 "nbformat": 4,
 "nbformat_minor": 2
}
